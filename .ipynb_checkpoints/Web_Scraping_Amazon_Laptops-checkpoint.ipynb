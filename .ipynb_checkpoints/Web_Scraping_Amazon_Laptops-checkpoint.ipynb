{
 "cells": [
  {
   "cell_type": "markdown",
   "metadata": {},
   "source": [
    "# Web Scraping Amazon Laptops"
   ]
  },
  {
   "cell_type": "markdown",
   "metadata": {},
   "source": [
    "## Problem Definition"
   ]
  },
  {
   "cell_type": "markdown",
   "metadata": {},
   "source": [
    "I'm considering buying a net notebook for my data science projects, and decided to turn this idea into yet another project!\n",
    "\n",
    "My web scraper searches, compares and analyses different laptops and list them as a table for easy comparison. The web scraper will be crawling through Amazon, searching for details on the laptops: price, user reviews and hardware configuration."
   ]
  },
  {
   "cell_type": "markdown",
   "metadata": {},
   "source": [
    "## Data Source"
   ]
  },
  {
   "cell_type": "markdown",
   "metadata": {},
   "source": [
    "The official amazon website: https://amazon.com"
   ]
  },
  {
   "cell_type": "markdown",
   "metadata": {},
   "source": [
    "## Loading Packages"
   ]
  },
  {
   "cell_type": "code",
   "execution_count": 1,
   "metadata": {},
   "outputs": [],
   "source": [
    "# Imports\n",
    "import bs4\n",
    "import requests\n",
    "import pandas as pd\n",
    "from bs4 import BeautifulSoup\n",
    "import lxml"
   ]
  },
  {
   "cell_type": "markdown",
   "metadata": {},
   "source": [
    "## Web Scraping"
   ]
  },
  {
   "cell_type": "markdown",
   "metadata": {},
   "source": [
    "The web scraper was build by inspect the source code on: https://www.amazon.com/s?k=laptops\n",
    "\n",
    "The relevant information was extracted from the first five result pages."
   ]
  },
  {
   "cell_type": "code",
   "execution_count": 2,
   "metadata": {},
   "outputs": [],
   "source": [
    "# Function which defines o header for the connection with amazon.com and makes a request to extract the data\n",
    "def make_request(num_page):\n",
    "    \n",
    "    # Header to avoid the problem of non-secure connection with amazon.com\n",
    "    headers = {\"User-Agent\":\"Mozilla/5.0 (Windows NT 10.0; Win64; x64; rv:66.0) Gecko/20100101 Firefox/66.0\", \n",
    "               \"Accept-Encoding\":\"gzip, deflate\", \n",
    "               \"Accept\":\"text/html,application/xhtml+xml,application/xml;q=0.9,*/*;q=0.8\",\n",
    "               \"DNT\":\"1\",\"Connection\":\"close\", \"Upgrade-Insecure-Requests\":\"1\"} \n",
    "\n",
    "    # Request the desired number of pages\n",
    "    request = requests.get('https://www.amazon.com/s?k=laptops&page='+str(num_page), headers = headers)\n",
    "    \n",
    "    # Then extract the content\n",
    "    content = request.content\n",
    "    \n",
    "    return content"
   ]
  },
  {
   "cell_type": "code",
   "execution_count": 3,
   "metadata": {},
   "outputs": [],
   "source": [
    "# Function to extract the laptop's name\n",
    "def extract_name(div):\n",
    "    \n",
    "    # Find the span tag, class 'a-size-medium a-color-base a-text-normal', where the laptop name will be\n",
    "    span_name = div.find('span', attrs = {'class':'a-size-medium a-color-base a-text-normal'})\n",
    "    \n",
    "    # If the value found isn't empty, return the value (name)\n",
    "    if span_name is not None:\n",
    "        return span_name.text\n",
    "    else:\n",
    "        return 'no-info'"
   ]
  },
  {
   "cell_type": "code",
   "execution_count": 4,
   "metadata": {},
   "outputs": [],
   "source": [
    "# Function to extract the laptop's price\n",
    "def extract_price(div):\n",
    "    \n",
    "    # Find the span tag, class 'a-offscreen', where the laptop price will be\n",
    "    span_price = div.find('span', attrs = {'class':'a-offscreen'})\n",
    "\n",
    "    # If the value found isn't empty, return the value (price)\n",
    "    if span_price is not None:\n",
    "        return span_price.text\n",
    "    else:\n",
    "        return 'no-info'"
   ]
  },
  {
   "cell_type": "code",
   "execution_count": 5,
   "metadata": {},
   "outputs": [],
   "source": [
    "# Function to extract the laptop's reviews\n",
    "def extract_reviews(div):\n",
    "    \n",
    "    # Find the span tag, class 'a-icon-alt', where the laptop reviews will be\n",
    "    span_reviews = div.find('span', attrs = {'class':'a-icon-alt'})\n",
    "\n",
    "    # If the value found isn't empty, return the value (price)\n",
    "    if span_reviews is not None:\n",
    "        return span_reviews.text\n",
    "    else:\n",
    "        return 'no-info'"
   ]
  },
  {
   "cell_type": "code",
   "execution_count": 6,
   "metadata": {},
   "outputs": [],
   "source": [
    "# List to store the data\n",
    "laptop_data = []\n",
    "\n",
    "# Loop through the desired number of pages\n",
    "for num_page in range(1,6):\n",
    "    \n",
    "    # Make request and get content\n",
    "    content = make_request(num_page)\n",
    "    \n",
    "    # Format the content with BeautifulSoup\n",
    "    soup = BeautifulSoup(content, 'lxml')\n",
    "    \n",
    "    # Loop through the content\n",
    "    for info in soup.findAll('div', attrs = {'class': 'sg-col-4-of-12 sg-col-4-of-16 sg-col sg-col-4-of-20'}):\n",
    "        \n",
    "        # Extract name\n",
    "        name = extract_name(info)\n",
    "        \n",
    "        # Extract price\n",
    "        price = extract_price(info)\n",
    "        \n",
    "        # Extract reviews\n",
    "        reviews = extract_reviews(info)\n",
    "        \n",
    "        # Add the data to the list\n",
    "        laptop_data.append([name, price, reviews])"
   ]
  },
  {
   "cell_type": "code",
   "execution_count": 7,
   "metadata": {},
   "outputs": [
    {
     "data": {
      "text/plain": [
       "(693, 3)"
      ]
     },
     "execution_count": 7,
     "metadata": {},
     "output_type": "execute_result"
    }
   ],
   "source": [
    "# Convert the list to a dataframe\n",
    "df_laptop_data = pd.DataFrame(laptop_data, columns = ['Name', 'Price', 'Reviews'])\n",
    "df_laptop_data.shape"
   ]
  },
  {
   "cell_type": "code",
   "execution_count": 15,
   "metadata": {},
   "outputs": [
    {
     "data": {
      "text/html": [
       "<div>\n",
       "<style scoped>\n",
       "    .dataframe tbody tr th:only-of-type {\n",
       "        vertical-align: middle;\n",
       "    }\n",
       "\n",
       "    .dataframe tbody tr th {\n",
       "        vertical-align: top;\n",
       "    }\n",
       "\n",
       "    .dataframe thead th {\n",
       "        text-align: right;\n",
       "    }\n",
       "</style>\n",
       "<table border=\"1\" class=\"dataframe\">\n",
       "  <thead>\n",
       "    <tr style=\"text-align: right;\">\n",
       "      <th></th>\n",
       "      <th>Name</th>\n",
       "      <th>Price</th>\n",
       "      <th>Reviews</th>\n",
       "    </tr>\n",
       "  </thead>\n",
       "  <tbody>\n",
       "    <tr>\n",
       "      <th>0</th>\n",
       "      <td>no-info</td>\n",
       "      <td>no-info</td>\n",
       "      <td>no-info</td>\n",
       "    </tr>\n",
       "    <tr>\n",
       "      <th>1</th>\n",
       "      <td>CHUWI HeroBook Pro 14.1 inch Windows 10 Laptop...</td>\n",
       "      <td>$339.00</td>\n",
       "      <td>4 Stars &amp; Up</td>\n",
       "    </tr>\n",
       "    <tr>\n",
       "      <th>2</th>\n",
       "      <td>no-info</td>\n",
       "      <td>no-info</td>\n",
       "      <td>no-info</td>\n",
       "    </tr>\n",
       "    <tr>\n",
       "      <th>3</th>\n",
       "      <td>CHUWI HeroBook Pro 14.1 inch Windows 10 Laptop...</td>\n",
       "      <td>$339.00</td>\n",
       "      <td>3.9 out of 5 stars</td>\n",
       "    </tr>\n",
       "    <tr>\n",
       "      <th>4</th>\n",
       "      <td>no-info</td>\n",
       "      <td>no-info</td>\n",
       "      <td>no-info</td>\n",
       "    </tr>\n",
       "  </tbody>\n",
       "</table>\n",
       "</div>"
      ],
      "text/plain": [
       "                                                Name    Price  \\\n",
       "0                                            no-info  no-info   \n",
       "1  CHUWI HeroBook Pro 14.1 inch Windows 10 Laptop...  $339.00   \n",
       "2                                            no-info  no-info   \n",
       "3  CHUWI HeroBook Pro 14.1 inch Windows 10 Laptop...  $339.00   \n",
       "4                                            no-info  no-info   \n",
       "\n",
       "              Reviews  \n",
       "0             no-info  \n",
       "1        4 Stars & Up  \n",
       "2             no-info  \n",
       "3  3.9 out of 5 stars  \n",
       "4             no-info  "
      ]
     },
     "execution_count": 15,
     "metadata": {},
     "output_type": "execute_result"
    }
   ],
   "source": [
    "df_laptop_data.head()"
   ]
  },
  {
   "cell_type": "markdown",
   "metadata": {},
   "source": [
    "> Seems like we got lots of null rows... let's do some cleaning!"
   ]
  },
  {
   "cell_type": "markdown",
   "metadata": {},
   "source": [
    "## Data Cleaning"
   ]
  },
  {
   "cell_type": "markdown",
   "metadata": {},
   "source": [
    "### Delete Null Rows"
   ]
  },
  {
   "cell_type": "code",
   "execution_count": 31,
   "metadata": {},
   "outputs": [
    {
     "data": {
      "text/plain": [
       "(230, 3)"
      ]
     },
     "execution_count": 31,
     "metadata": {},
     "output_type": "execute_result"
    }
   ],
   "source": [
    "# Remove rows without laptop name\n",
    "df = df_laptop_data[df_laptop_data.Name != 'no-info']\n",
    "df.shape"
   ]
  },
  {
   "cell_type": "code",
   "execution_count": 32,
   "metadata": {},
   "outputs": [
    {
     "data": {
      "text/plain": [
       "(90, 3)"
      ]
     },
     "execution_count": 32,
     "metadata": {},
     "output_type": "execute_result"
    }
   ],
   "source": [
    "# Remove rows without price name\n",
    "df = df[df.Price != 'no-info']\n",
    "df.shape"
   ]
  },
  {
   "cell_type": "code",
   "execution_count": 33,
   "metadata": {},
   "outputs": [
    {
     "data": {
      "text/html": [
       "<div>\n",
       "<style scoped>\n",
       "    .dataframe tbody tr th:only-of-type {\n",
       "        vertical-align: middle;\n",
       "    }\n",
       "\n",
       "    .dataframe tbody tr th {\n",
       "        vertical-align: top;\n",
       "    }\n",
       "\n",
       "    .dataframe thead th {\n",
       "        text-align: right;\n",
       "    }\n",
       "</style>\n",
       "<table border=\"1\" class=\"dataframe\">\n",
       "  <thead>\n",
       "    <tr style=\"text-align: right;\">\n",
       "      <th></th>\n",
       "      <th>Name</th>\n",
       "      <th>Price</th>\n",
       "      <th>Reviews</th>\n",
       "    </tr>\n",
       "  </thead>\n",
       "  <tbody>\n",
       "    <tr>\n",
       "      <th>1</th>\n",
       "      <td>CHUWI HeroBook Pro 14.1 inch Windows 10 Laptop...</td>\n",
       "      <td>$339.00</td>\n",
       "      <td>4 Stars &amp; Up</td>\n",
       "    </tr>\n",
       "    <tr>\n",
       "      <th>3</th>\n",
       "      <td>CHUWI HeroBook Pro 14.1 inch Windows 10 Laptop...</td>\n",
       "      <td>$339.00</td>\n",
       "      <td>3.9 out of 5 stars</td>\n",
       "    </tr>\n",
       "    <tr>\n",
       "      <th>8</th>\n",
       "      <td>CHUWI HeroBook Pro 14.1 inch Windows 10 Laptop...</td>\n",
       "      <td>$339.00</td>\n",
       "      <td>3.9 out of 5 stars</td>\n",
       "    </tr>\n",
       "    <tr>\n",
       "      <th>14</th>\n",
       "      <td>CHUWI Herobook Pro 14.1 inch Windows 10 Intel ...</td>\n",
       "      <td>$339.00</td>\n",
       "      <td>4.0 out of 5 stars</td>\n",
       "    </tr>\n",
       "    <tr>\n",
       "      <th>44</th>\n",
       "      <td>iProda 14\" Stream Laptop, Intel i3 Notebook (u...</td>\n",
       "      <td>$378.98</td>\n",
       "      <td>4.5 out of 5 stars</td>\n",
       "    </tr>\n",
       "    <tr>\n",
       "      <th>...</th>\n",
       "      <td>...</td>\n",
       "      <td>...</td>\n",
       "      <td>...</td>\n",
       "    </tr>\n",
       "    <tr>\n",
       "      <th>662</th>\n",
       "      <td>Newest HP 15.6inch Lightweight Laptop, Intel Q...</td>\n",
       "      <td>$562.00</td>\n",
       "      <td>4.5 out of 5 stars</td>\n",
       "    </tr>\n",
       "    <tr>\n",
       "      <th>668</th>\n",
       "      <td>Goldengulf Windows 10 Computer Laptop Mini 10....</td>\n",
       "      <td>$218.86</td>\n",
       "      <td>3.9 out of 5 stars</td>\n",
       "    </tr>\n",
       "    <tr>\n",
       "      <th>674</th>\n",
       "      <td>2020 HP 14-inch HD Touchscreen Premium Laptop ...</td>\n",
       "      <td>$523.00</td>\n",
       "      <td>4.6 out of 5 stars</td>\n",
       "    </tr>\n",
       "    <tr>\n",
       "      <th>680</th>\n",
       "      <td>Fusion5 14.1inch A90B+ Pro 64GB Windows 10 Lap...</td>\n",
       "      <td>$264.95</td>\n",
       "      <td>4.2 out of 5 stars</td>\n",
       "    </tr>\n",
       "    <tr>\n",
       "      <th>686</th>\n",
       "      <td>CHUWI Herobook Pro 14.1 inch Windows 10 Intel ...</td>\n",
       "      <td>$339.00</td>\n",
       "      <td>4.0 out of 5 stars</td>\n",
       "    </tr>\n",
       "  </tbody>\n",
       "</table>\n",
       "<p>90 rows × 3 columns</p>\n",
       "</div>"
      ],
      "text/plain": [
       "                                                  Name    Price  \\\n",
       "1    CHUWI HeroBook Pro 14.1 inch Windows 10 Laptop...  $339.00   \n",
       "3    CHUWI HeroBook Pro 14.1 inch Windows 10 Laptop...  $339.00   \n",
       "8    CHUWI HeroBook Pro 14.1 inch Windows 10 Laptop...  $339.00   \n",
       "14   CHUWI Herobook Pro 14.1 inch Windows 10 Intel ...  $339.00   \n",
       "44   iProda 14\" Stream Laptop, Intel i3 Notebook (u...  $378.98   \n",
       "..                                                 ...      ...   \n",
       "662  Newest HP 15.6inch Lightweight Laptop, Intel Q...  $562.00   \n",
       "668  Goldengulf Windows 10 Computer Laptop Mini 10....  $218.86   \n",
       "674  2020 HP 14-inch HD Touchscreen Premium Laptop ...  $523.00   \n",
       "680  Fusion5 14.1inch A90B+ Pro 64GB Windows 10 Lap...  $264.95   \n",
       "686  CHUWI Herobook Pro 14.1 inch Windows 10 Intel ...  $339.00   \n",
       "\n",
       "                Reviews  \n",
       "1          4 Stars & Up  \n",
       "3    3.9 out of 5 stars  \n",
       "8    3.9 out of 5 stars  \n",
       "14   4.0 out of 5 stars  \n",
       "44   4.5 out of 5 stars  \n",
       "..                  ...  \n",
       "662  4.5 out of 5 stars  \n",
       "668  3.9 out of 5 stars  \n",
       "674  4.6 out of 5 stars  \n",
       "680  4.2 out of 5 stars  \n",
       "686  4.0 out of 5 stars  \n",
       "\n",
       "[90 rows x 3 columns]"
      ]
     },
     "execution_count": 33,
     "metadata": {},
     "output_type": "execute_result"
    }
   ],
   "source": [
    "df"
   ]
  },
  {
   "cell_type": "markdown",
   "metadata": {},
   "source": [
    "### Clean the Price Column"
   ]
  },
  {
   "cell_type": "code",
   "execution_count": 51,
   "metadata": {},
   "outputs": [
    {
     "data": {
      "text/plain": [
       "$339.00      12\n",
       "$259.90       9\n",
       "$378.98       9\n",
       "$439.00       5\n",
       "$264.95       5\n",
       "$269.90       2\n",
       "$599.00       2\n",
       "$369.99       2\n",
       "$912.46       1\n",
       "$585.99       1\n",
       "$589.99       1\n",
       "$944.99       1\n",
       "$527.00       1\n",
       "$799.99       1\n",
       "$218.86       1\n",
       "$309.00       1\n",
       "$256.99       1\n",
       "$292.00       1\n",
       "$809.49       1\n",
       "$1,299.00     1\n",
       "$549.99       1\n",
       "$399.00       1\n",
       "$2,399.00     1\n",
       "$849.00       1\n",
       "$599.99       1\n",
       "$787.04       1\n",
       "$725.00       1\n",
       "$288.00       1\n",
       "$699.00       1\n",
       "$845.54       1\n",
       "$324.00       1\n",
       "$847.00       1\n",
       "$340.00       1\n",
       "$854.01       1\n",
       "$523.00       1\n",
       "$419.99       1\n",
       "$667.02       1\n",
       "$529.00       1\n",
       "$698.90       1\n",
       "$299.99       1\n",
       "$2,599.00     1\n",
       "$425.00       1\n",
       "$1,138.21     1\n",
       "$334.99       1\n",
       "$269.00       1\n",
       "$247.70       1\n",
       "$279.99       1\n",
       "$299.00       1\n",
       "$449.99       1\n",
       "$660.00       1\n",
       "$439.99       1\n",
       "$562.00       1\n",
       "Name: Price, dtype: int64"
      ]
     },
     "execution_count": 51,
     "metadata": {},
     "output_type": "execute_result"
    }
   ],
   "source": [
    "# Check data on the column\n",
    "df['Price'].value_counts(dropna = False)"
   ]
  },
  {
   "cell_type": "code",
   "execution_count": 36,
   "metadata": {},
   "outputs": [],
   "source": [
    "# Function to clean the data on the price column\n",
    "def clean_price(price):\n",
    "    \n",
    "    # Remove the $\n",
    "    price = price.replace('$', '')\n",
    "\n",
    "    # Remove the comma ',' on numbers over 1000 (1,000)\n",
    "    price = price.replace(',', '')\n",
    "    \n",
    "    # Convert to numeric data type\n",
    "    price = pd.to_numeric(price)\n",
    "    \n",
    "    return price"
   ]
  },
  {
   "cell_type": "code",
   "execution_count": 42,
   "metadata": {},
   "outputs": [
    {
     "data": {
      "text/plain": [
       "(90, 4)"
      ]
     },
     "execution_count": 42,
     "metadata": {},
     "output_type": "execute_result"
    }
   ],
   "source": [
    "# Create a new column to store the clean price\n",
    "df['Price_Clean'] = df['Price'].apply(clean_price)\n",
    "df.shape"
   ]
  },
  {
   "cell_type": "code",
   "execution_count": 43,
   "metadata": {},
   "outputs": [
    {
     "data": {
      "text/html": [
       "<div>\n",
       "<style scoped>\n",
       "    .dataframe tbody tr th:only-of-type {\n",
       "        vertical-align: middle;\n",
       "    }\n",
       "\n",
       "    .dataframe tbody tr th {\n",
       "        vertical-align: top;\n",
       "    }\n",
       "\n",
       "    .dataframe thead th {\n",
       "        text-align: right;\n",
       "    }\n",
       "</style>\n",
       "<table border=\"1\" class=\"dataframe\">\n",
       "  <thead>\n",
       "    <tr style=\"text-align: right;\">\n",
       "      <th></th>\n",
       "      <th>Name</th>\n",
       "      <th>Price</th>\n",
       "      <th>Reviews</th>\n",
       "      <th>Price_Clean</th>\n",
       "    </tr>\n",
       "  </thead>\n",
       "  <tbody>\n",
       "    <tr>\n",
       "      <th>1</th>\n",
       "      <td>CHUWI HeroBook Pro 14.1 inch Windows 10 Laptop...</td>\n",
       "      <td>$339.00</td>\n",
       "      <td>4 Stars &amp; Up</td>\n",
       "      <td>339.00</td>\n",
       "    </tr>\n",
       "    <tr>\n",
       "      <th>3</th>\n",
       "      <td>CHUWI HeroBook Pro 14.1 inch Windows 10 Laptop...</td>\n",
       "      <td>$339.00</td>\n",
       "      <td>3.9 out of 5 stars</td>\n",
       "      <td>339.00</td>\n",
       "    </tr>\n",
       "    <tr>\n",
       "      <th>8</th>\n",
       "      <td>CHUWI HeroBook Pro 14.1 inch Windows 10 Laptop...</td>\n",
       "      <td>$339.00</td>\n",
       "      <td>3.9 out of 5 stars</td>\n",
       "      <td>339.00</td>\n",
       "    </tr>\n",
       "    <tr>\n",
       "      <th>14</th>\n",
       "      <td>CHUWI Herobook Pro 14.1 inch Windows 10 Intel ...</td>\n",
       "      <td>$339.00</td>\n",
       "      <td>4.0 out of 5 stars</td>\n",
       "      <td>339.00</td>\n",
       "    </tr>\n",
       "    <tr>\n",
       "      <th>44</th>\n",
       "      <td>iProda 14\" Stream Laptop, Intel i3 Notebook (u...</td>\n",
       "      <td>$378.98</td>\n",
       "      <td>4.5 out of 5 stars</td>\n",
       "      <td>378.98</td>\n",
       "    </tr>\n",
       "  </tbody>\n",
       "</table>\n",
       "</div>"
      ],
      "text/plain": [
       "                                                 Name    Price  \\\n",
       "1   CHUWI HeroBook Pro 14.1 inch Windows 10 Laptop...  $339.00   \n",
       "3   CHUWI HeroBook Pro 14.1 inch Windows 10 Laptop...  $339.00   \n",
       "8   CHUWI HeroBook Pro 14.1 inch Windows 10 Laptop...  $339.00   \n",
       "14  CHUWI Herobook Pro 14.1 inch Windows 10 Intel ...  $339.00   \n",
       "44  iProda 14\" Stream Laptop, Intel i3 Notebook (u...  $378.98   \n",
       "\n",
       "               Reviews  Price_Clean  \n",
       "1         4 Stars & Up       339.00  \n",
       "3   3.9 out of 5 stars       339.00  \n",
       "8   3.9 out of 5 stars       339.00  \n",
       "14  4.0 out of 5 stars       339.00  \n",
       "44  4.5 out of 5 stars       378.98  "
      ]
     },
     "execution_count": 43,
     "metadata": {},
     "output_type": "execute_result"
    }
   ],
   "source": [
    "df.head()"
   ]
  },
  {
   "cell_type": "code",
   "execution_count": 53,
   "metadata": {},
   "outputs": [
    {
     "data": {
      "text/plain": [
       "339.00     12\n",
       "259.90      9\n",
       "378.98      9\n",
       "439.00      5\n",
       "264.95      5\n",
       "369.99      2\n",
       "599.00      2\n",
       "269.90      2\n",
       "309.00      1\n",
       "399.00      1\n",
       "660.00      1\n",
       "439.99      1\n",
       "425.00      1\n",
       "725.00      1\n",
       "787.04      1\n",
       "849.00      1\n",
       "549.99      1\n",
       "292.00      1\n",
       "340.00      1\n",
       "269.00      1\n",
       "562.00      1\n",
       "699.00      1\n",
       "299.00      1\n",
       "527.00      1\n",
       "847.00      1\n",
       "324.00      1\n",
       "288.00      1\n",
       "529.00      1\n",
       "912.46      1\n",
       "523.00      1\n",
       "667.02      1\n",
       "419.99      1\n",
       "698.90      1\n",
       "299.99      1\n",
       "2599.00     1\n",
       "2399.00     1\n",
       "585.99      1\n",
       "247.70      1\n",
       "449.99      1\n",
       "256.99      1\n",
       "334.99      1\n",
       "799.99      1\n",
       "599.99      1\n",
       "1299.00     1\n",
       "279.99      1\n",
       "1138.21     1\n",
       "218.86      1\n",
       "944.99      1\n",
       "589.99      1\n",
       "809.49      1\n",
       "854.01      1\n",
       "845.54      1\n",
       "Name: Price_Clean, dtype: int64"
      ]
     },
     "execution_count": 53,
     "metadata": {},
     "output_type": "execute_result"
    }
   ],
   "source": [
    "# Check data on the column\n",
    "df['Price_Clean'].value_counts(dropna = False)"
   ]
  },
  {
   "cell_type": "markdown",
   "metadata": {},
   "source": [
    "### Clean the Reviews Column"
   ]
  },
  {
   "cell_type": "code",
   "execution_count": 45,
   "metadata": {},
   "outputs": [
    {
     "data": {
      "text/plain": [
       "4.5 out of 5 stars    15\n",
       "4.0 out of 5 stars    14\n",
       "4.2 out of 5 stars     8\n",
       "4.1 out of 5 stars     8\n",
       "3.9 out of 5 stars     8\n",
       "4.6 out of 5 stars     7\n",
       "no-info                6\n",
       "4.3 out of 5 stars     6\n",
       "4 Stars & Up           5\n",
       "4.4 out of 5 stars     4\n",
       "4.7 out of 5 stars     3\n",
       "5.0 out of 5 stars     3\n",
       "3.7 out of 5 stars     1\n",
       "4.9 out of 5 stars     1\n",
       "3.8 out of 5 stars     1\n",
       "Name: Reviews, dtype: int64"
      ]
     },
     "execution_count": 45,
     "metadata": {},
     "output_type": "execute_result"
    }
   ],
   "source": [
    "# Check data on the column\n",
    "df['Reviews'].value_counts(dropna = False)"
   ]
  },
  {
   "cell_type": "code",
   "execution_count": 46,
   "metadata": {},
   "outputs": [],
   "source": [
    "# Function to clean the reviews\n",
    "def clean_reviews(review):\n",
    "    \n",
    "    # Split the string by spaces\n",
    "    review = review.split()\n",
    "    \n",
    "    # Extract the first item (the stars received)\n",
    "    review = review[0]\n",
    "    \n",
    "    # Se 'no-infos' as 0\n",
    "    if review == 'no-info':\n",
    "        review = 0\n",
    "    \n",
    "    # Convert to numeric data type\n",
    "    review = pd.to_numeric(review)\n",
    "    \n",
    "    return review"
   ]
  },
  {
   "cell_type": "code",
   "execution_count": 48,
   "metadata": {},
   "outputs": [
    {
     "data": {
      "text/plain": [
       "(90, 5)"
      ]
     },
     "execution_count": 48,
     "metadata": {},
     "output_type": "execute_result"
    }
   ],
   "source": [
    "# Create a new column to store the clean review\n",
    "df['Review_Clean'] = df['Reviews'].apply(clean_reviews)\n",
    "df.shape"
   ]
  },
  {
   "cell_type": "code",
   "execution_count": 50,
   "metadata": {},
   "outputs": [
    {
     "data": {
      "text/plain": [
       "4.0    19\n",
       "4.5    15\n",
       "4.1     8\n",
       "4.2     8\n",
       "3.9     8\n",
       "4.6     7\n",
       "4.3     6\n",
       "0.0     6\n",
       "4.4     4\n",
       "4.7     3\n",
       "5.0     3\n",
       "3.7     1\n",
       "3.8     1\n",
       "4.9     1\n",
       "Name: Review_Clean, dtype: int64"
      ]
     },
     "execution_count": 50,
     "metadata": {},
     "output_type": "execute_result"
    }
   ],
   "source": [
    "# Check data on the column\n",
    "df['Review_Clean'].value_counts(dropna = False)"
   ]
  },
  {
   "cell_type": "code",
   "execution_count": 54,
   "metadata": {},
   "outputs": [
    {
     "data": {
      "text/html": [
       "<div>\n",
       "<style scoped>\n",
       "    .dataframe tbody tr th:only-of-type {\n",
       "        vertical-align: middle;\n",
       "    }\n",
       "\n",
       "    .dataframe tbody tr th {\n",
       "        vertical-align: top;\n",
       "    }\n",
       "\n",
       "    .dataframe thead th {\n",
       "        text-align: right;\n",
       "    }\n",
       "</style>\n",
       "<table border=\"1\" class=\"dataframe\">\n",
       "  <thead>\n",
       "    <tr style=\"text-align: right;\">\n",
       "      <th></th>\n",
       "      <th>Name</th>\n",
       "      <th>Price</th>\n",
       "      <th>Reviews</th>\n",
       "      <th>Price_Clean</th>\n",
       "      <th>Review_Clean</th>\n",
       "    </tr>\n",
       "  </thead>\n",
       "  <tbody>\n",
       "    <tr>\n",
       "      <th>1</th>\n",
       "      <td>CHUWI HeroBook Pro 14.1 inch Windows 10 Laptop...</td>\n",
       "      <td>$339.00</td>\n",
       "      <td>4 Stars &amp; Up</td>\n",
       "      <td>339.00</td>\n",
       "      <td>4.0</td>\n",
       "    </tr>\n",
       "    <tr>\n",
       "      <th>3</th>\n",
       "      <td>CHUWI HeroBook Pro 14.1 inch Windows 10 Laptop...</td>\n",
       "      <td>$339.00</td>\n",
       "      <td>3.9 out of 5 stars</td>\n",
       "      <td>339.00</td>\n",
       "      <td>3.9</td>\n",
       "    </tr>\n",
       "    <tr>\n",
       "      <th>8</th>\n",
       "      <td>CHUWI HeroBook Pro 14.1 inch Windows 10 Laptop...</td>\n",
       "      <td>$339.00</td>\n",
       "      <td>3.9 out of 5 stars</td>\n",
       "      <td>339.00</td>\n",
       "      <td>3.9</td>\n",
       "    </tr>\n",
       "    <tr>\n",
       "      <th>14</th>\n",
       "      <td>CHUWI Herobook Pro 14.1 inch Windows 10 Intel ...</td>\n",
       "      <td>$339.00</td>\n",
       "      <td>4.0 out of 5 stars</td>\n",
       "      <td>339.00</td>\n",
       "      <td>4.0</td>\n",
       "    </tr>\n",
       "    <tr>\n",
       "      <th>44</th>\n",
       "      <td>iProda 14\" Stream Laptop, Intel i3 Notebook (u...</td>\n",
       "      <td>$378.98</td>\n",
       "      <td>4.5 out of 5 stars</td>\n",
       "      <td>378.98</td>\n",
       "      <td>4.5</td>\n",
       "    </tr>\n",
       "  </tbody>\n",
       "</table>\n",
       "</div>"
      ],
      "text/plain": [
       "                                                 Name    Price  \\\n",
       "1   CHUWI HeroBook Pro 14.1 inch Windows 10 Laptop...  $339.00   \n",
       "3   CHUWI HeroBook Pro 14.1 inch Windows 10 Laptop...  $339.00   \n",
       "8   CHUWI HeroBook Pro 14.1 inch Windows 10 Laptop...  $339.00   \n",
       "14  CHUWI Herobook Pro 14.1 inch Windows 10 Intel ...  $339.00   \n",
       "44  iProda 14\" Stream Laptop, Intel i3 Notebook (u...  $378.98   \n",
       "\n",
       "               Reviews  Price_Clean  Review_Clean  \n",
       "1         4 Stars & Up       339.00           4.0  \n",
       "3   3.9 out of 5 stars       339.00           3.9  \n",
       "8   3.9 out of 5 stars       339.00           3.9  \n",
       "14  4.0 out of 5 stars       339.00           4.0  \n",
       "44  4.5 out of 5 stars       378.98           4.5  "
      ]
     },
     "execution_count": 54,
     "metadata": {},
     "output_type": "execute_result"
    }
   ],
   "source": [
    "df.head()"
   ]
  },
  {
   "cell_type": "markdown",
   "metadata": {},
   "source": [
    "### Clean the Name Column"
   ]
  },
  {
   "cell_type": "markdown",
   "metadata": {},
   "source": [
    "> The name column has various data about the laptops, including hardware specifications, brand, screen size, and such. \n",
    "> To effectively clean it those data need to be extracted, which might require some experimenting."
   ]
  },
  {
   "cell_type": "code",
   "execution_count": 55,
   "metadata": {},
   "outputs": [
    {
     "data": {
      "text/plain": [
       "1      CHUWI HeroBook Pro 14.1 inch Windows 10 Laptop...\n",
       "3      CHUWI HeroBook Pro 14.1 inch Windows 10 Laptop...\n",
       "8      CHUWI HeroBook Pro 14.1 inch Windows 10 Laptop...\n",
       "14     CHUWI Herobook Pro 14.1 inch Windows 10 Intel ...\n",
       "44     iProda 14\" Stream Laptop, Intel i3 Notebook (u...\n",
       "                             ...                        \n",
       "662    Newest HP 15.6inch Lightweight Laptop, Intel Q...\n",
       "668    Goldengulf Windows 10 Computer Laptop Mini 10....\n",
       "674    2020 HP 14-inch HD Touchscreen Premium Laptop ...\n",
       "680    Fusion5 14.1inch A90B+ Pro 64GB Windows 10 Lap...\n",
       "686    CHUWI Herobook Pro 14.1 inch Windows 10 Intel ...\n",
       "Name: Name, Length: 90, dtype: object"
      ]
     },
     "execution_count": 55,
     "metadata": {},
     "output_type": "execute_result"
    }
   ],
   "source": [
    "df.Name"
   ]
  },
  {
   "cell_type": "markdown",
   "metadata": {},
   "source": [
    "> Pandas is truncating the Name strings deu to their size, but this make it hard to come with a data extaction method, so let me fix pandas."
   ]
  },
  {
   "cell_type": "code",
   "execution_count": 56,
   "metadata": {},
   "outputs": [],
   "source": [
    "pd.set_option('display.max_colwidth', None)"
   ]
  },
  {
   "cell_type": "code",
   "execution_count": 57,
   "metadata": {},
   "outputs": [
    {
     "data": {
      "text/plain": [
       "1                                                     CHUWI HeroBook Pro 14.1 inch Windows 10 Laptop Computer, 8G RAM / 256GB SSD with Intel Gmini Lake N4000 Notebook, Thin and Light\n",
       "3                                                     CHUWI HeroBook Pro 14.1 inch Windows 10 Laptop Computer, 8G RAM / 256GB SSD with Intel Gmini Lake N4000 Notebook, Thin and Light\n",
       "8                                                     CHUWI HeroBook Pro 14.1 inch Windows 10 Laptop Computer, 8G RAM / 256GB SSD with Intel Gmini Lake N4000 Notebook, Thin and Light\n",
       "14                       CHUWI Herobook Pro 14.1 inch Windows 10 Intel N4000 Dual Core 8GB RAM 256GB ROM Notebook,Thin and Lightweight Laptop,BT4.0 (Herobook Pro (Herobook Pro(2020))\n",
       "44     iProda 14\" Stream Laptop, Intel i3 Notebook (up to 2.4GHz), 8GB Memory, 256GB SSD, Full HD IPS 19201080 Display, Windows 10 Pro, Perfect PC for Student and Home use (Intel i3)\n",
       "                                                                                            ...                                                                                       \n",
       "662         Newest HP 15.6inch Lightweight Laptop, Intel Quad-Core i5-1035G1 Processor Up to 3.60 GHz, 8GB DDR4 RAM, 256GB SSD + 16GB Optane, HDMI, Bluetooth, Win 10-Silver (Renewed)\n",
       "668                                 Goldengulf Windows 10 Computer Laptop Mini 10.1 Inch 32GB Ultra Thin and Light Netbook Intel Quad Core CPU PC HDMI WiFi USB Netflix YouTube (Blue)\n",
       "674                                           2020 HP 14-inch HD Touchscreen Premium Laptop PC, AMD Ryzen 3 3200U Processor, 8GB DDR4 Memory, 256GB SSD, Bluetooth, Windows 10, Silver\n",
       "680                                               Fusion5 14.1inch A90B+ Pro 64GB Windows 10 Laptop - 4GB RAM, 64GB Storage, Full HD IPS, Bluetooth, 2MP Webcam, Dual Band WiFi Laptop\n",
       "686                      CHUWI Herobook Pro 14.1 inch Windows 10 Intel N4000 Dual Core 8GB RAM 256GB ROM Notebook,Thin and Lightweight Laptop,BT4.0 (Herobook Pro (Herobook Pro(2020))\n",
       "Name: Name, Length: 90, dtype: object"
      ]
     },
     "execution_count": 57,
     "metadata": {},
     "output_type": "execute_result"
    }
   ],
   "source": [
    "df.Name"
   ]
  },
  {
   "cell_type": "markdown",
   "metadata": {},
   "source": [
    "> Getting what I want will require some regular expressions...\n",
    ">\n",
    "> Source: https://docs.python.org/3/library/re.html"
   ]
  },
  {
   "cell_type": "markdown",
   "metadata": {},
   "source": [
    "#### Find Processor"
   ]
  },
  {
   "cell_type": "code",
   "execution_count": 63,
   "metadata": {},
   "outputs": [],
   "source": [
    "re_find_processor = r'\\b([iI][\\d])\\b'"
   ]
  },
  {
   "cell_type": "code",
   "execution_count": 101,
   "metadata": {},
   "outputs": [
    {
     "data": {
      "text/plain": [
       "NaN    55\n",
       "i5     13\n",
       "i3     12\n",
       "i7     10\n",
       "Name: Processor, dtype: int64"
      ]
     },
     "execution_count": 101,
     "metadata": {},
     "output_type": "execute_result"
    }
   ],
   "source": [
    "# Create a column for the processor data\n",
    "df['Processor'] = df['Name'].str.extract(re_find_processor)\n",
    "\n",
    "# Standardize processor name by setting all characters to lowercase\n",
    "df['Processor'] = df['Processor'].str.replace('I', 'i')\n",
    "\n",
    "# Check result\n",
    "df['Processor'].value_counts(dropna = False)"
   ]
  },
  {
   "cell_type": "markdown",
   "metadata": {},
   "source": [
    "#### Find RAM Memory"
   ]
  },
  {
   "cell_type": "code",
   "execution_count": 84,
   "metadata": {},
   "outputs": [],
   "source": [
    "re_find_ram = r'\\b([\\d]+)[GB]+[ ][\\+ LlPpDdRrAaMmEeOoYy\\d]+\\b'"
   ]
  },
  {
   "cell_type": "code",
   "execution_count": 100,
   "metadata": {},
   "outputs": [
    {
     "data": {
      "text/plain": [
       "8.0     39\n",
       "4.0     25\n",
       "12.0    10\n",
       "NaN     10\n",
       "16.0     6\n",
       "Name: RAM_Memory, dtype: int64"
      ]
     },
     "execution_count": 100,
     "metadata": {},
     "output_type": "execute_result"
    }
   ],
   "source": [
    "# Create a new column for the RAM data\n",
    "df['RAM_Memory'] = df['Name'].str.extract(re_find_ram)\n",
    "\n",
    "# And convert to numeric data type\n",
    "df['RAM_Memory'] = df['RAM_Memory'].apply(lambda x: pd.to_numeric(x))\n",
    "\n",
    "# Check result\n",
    "df['RAM_Memory'].value_counts(dropna = False)"
   ]
  },
  {
   "cell_type": "markdown",
   "metadata": {},
   "source": [
    "#### Find Screen Size"
   ]
  },
  {
   "cell_type": "code",
   "execution_count": 92,
   "metadata": {},
   "outputs": [],
   "source": [
    "re_find_screen = r'\\b([1][\\d]+[\\.IiNnCcHh\\d]*)[ \\d]*\\b' "
   ]
  },
  {
   "cell_type": "code",
   "execution_count": 113,
   "metadata": {},
   "outputs": [
    {
     "data": {
      "text/plain": [
       "14          23\n",
       "14.1        14\n",
       "15.6        14\n",
       "13.3        10\n",
       "15           7\n",
       "17.3         5\n",
       "14.1inch     5\n",
       "11.6         4\n",
       "10750H       1\n",
       "14inch       1\n",
       "15.6inch     1\n",
       "11           1\n",
       "14.0         1\n",
       "12.4         1\n",
       "10           1\n",
       "10300H       1\n",
       "Name: Screen_Size, dtype: int64"
      ]
     },
     "execution_count": 113,
     "metadata": {},
     "output_type": "execute_result"
    }
   ],
   "source": [
    "# Create a new column for the screen size data\n",
    "df['Screen_Size'] = df['Name'].str.extract(re_find_screen)\n",
    "\n",
    "# Check result\n",
    "df['Screen_Size'].value_counts(dropna = False)"
   ]
  },
  {
   "cell_type": "markdown",
   "metadata": {},
   "source": [
    "> There are some weird values that don't seem to be screen sizes..."
   ]
  },
  {
   "cell_type": "code",
   "execution_count": 114,
   "metadata": {},
   "outputs": [],
   "source": [
    "# Cleaning function\n",
    "def clean_screen(size):\n",
    "    size = size.replace('Inch', '')\n",
    "    size = size.replace('inch', '')\n",
    "    size = size.replace('in', '')\n",
    "    try:\n",
    "        size = pd.to_numeric(size)\n",
    "    except:\n",
    "        size = 'no-info'\n",
    "    return size"
   ]
  },
  {
   "cell_type": "code",
   "execution_count": 115,
   "metadata": {},
   "outputs": [
    {
     "data": {
      "text/plain": [
       "14         25\n",
       "14.1       19\n",
       "15.6       15\n",
       "13.3       10\n",
       "15          7\n",
       "17.3        5\n",
       "11.6        4\n",
       "no-info     2\n",
       "12.4        1\n",
       "11          1\n",
       "10          1\n",
       "Name: Screen_Size, dtype: int64"
      ]
     },
     "execution_count": 115,
     "metadata": {},
     "output_type": "execute_result"
    }
   ],
   "source": [
    "# Apply function\n",
    "df['Screen_Size'] = df['Screen_Size'].apply(clean_screen)\n",
    "\n",
    "# Check result\n",
    "df['Screen_Size'].value_counts(dropna = False)"
   ]
  },
  {
   "cell_type": "markdown",
   "metadata": {},
   "source": [
    "## Final Dataset"
   ]
  },
  {
   "cell_type": "code",
   "execution_count": 132,
   "metadata": {},
   "outputs": [
    {
     "data": {
      "text/html": [
       "<div>\n",
       "<style scoped>\n",
       "    .dataframe tbody tr th:only-of-type {\n",
       "        vertical-align: middle;\n",
       "    }\n",
       "\n",
       "    .dataframe tbody tr th {\n",
       "        vertical-align: top;\n",
       "    }\n",
       "\n",
       "    .dataframe thead th {\n",
       "        text-align: right;\n",
       "    }\n",
       "</style>\n",
       "<table border=\"1\" class=\"dataframe\">\n",
       "  <thead>\n",
       "    <tr style=\"text-align: right;\">\n",
       "      <th></th>\n",
       "      <th>Name</th>\n",
       "      <th>Price</th>\n",
       "      <th>Review</th>\n",
       "      <th>Processor</th>\n",
       "      <th>RAM_Memory</th>\n",
       "      <th>Screen_Size</th>\n",
       "    </tr>\n",
       "  </thead>\n",
       "  <tbody>\n",
       "    <tr>\n",
       "      <th>1</th>\n",
       "      <td>CHUWI HeroBook Pro 14.1 inch Windows 10 Laptop Computer, 8G RAM / 256GB SSD with Intel Gmini Lake N4000 Notebook, Thin and Light</td>\n",
       "      <td>339.00</td>\n",
       "      <td>4.0</td>\n",
       "      <td>NaN</td>\n",
       "      <td>8.0</td>\n",
       "      <td>14.1</td>\n",
       "    </tr>\n",
       "    <tr>\n",
       "      <th>3</th>\n",
       "      <td>CHUWI HeroBook Pro 14.1 inch Windows 10 Laptop Computer, 8G RAM / 256GB SSD with Intel Gmini Lake N4000 Notebook, Thin and Light</td>\n",
       "      <td>339.00</td>\n",
       "      <td>3.9</td>\n",
       "      <td>NaN</td>\n",
       "      <td>8.0</td>\n",
       "      <td>14.1</td>\n",
       "    </tr>\n",
       "    <tr>\n",
       "      <th>8</th>\n",
       "      <td>CHUWI HeroBook Pro 14.1 inch Windows 10 Laptop Computer, 8G RAM / 256GB SSD with Intel Gmini Lake N4000 Notebook, Thin and Light</td>\n",
       "      <td>339.00</td>\n",
       "      <td>3.9</td>\n",
       "      <td>NaN</td>\n",
       "      <td>8.0</td>\n",
       "      <td>14.1</td>\n",
       "    </tr>\n",
       "    <tr>\n",
       "      <th>14</th>\n",
       "      <td>CHUWI Herobook Pro 14.1 inch Windows 10 Intel N4000 Dual Core 8GB RAM 256GB ROM Notebook,Thin and Lightweight Laptop,BT4.0 (Herobook Pro (Herobook Pro(2020))</td>\n",
       "      <td>339.00</td>\n",
       "      <td>4.0</td>\n",
       "      <td>NaN</td>\n",
       "      <td>8.0</td>\n",
       "      <td>14.1</td>\n",
       "    </tr>\n",
       "    <tr>\n",
       "      <th>44</th>\n",
       "      <td>iProda 14\" Stream Laptop, Intel i3 Notebook (up to 2.4GHz), 8GB Memory, 256GB SSD, Full HD IPS 19201080 Display, Windows 10 Pro, Perfect PC for Student and Home use (Intel i3)</td>\n",
       "      <td>378.98</td>\n",
       "      <td>4.5</td>\n",
       "      <td>i3</td>\n",
       "      <td>8.0</td>\n",
       "      <td>14</td>\n",
       "    </tr>\n",
       "    <tr>\n",
       "      <th>...</th>\n",
       "      <td>...</td>\n",
       "      <td>...</td>\n",
       "      <td>...</td>\n",
       "      <td>...</td>\n",
       "      <td>...</td>\n",
       "      <td>...</td>\n",
       "    </tr>\n",
       "    <tr>\n",
       "      <th>662</th>\n",
       "      <td>Newest HP 15.6inch Lightweight Laptop, Intel Quad-Core i5-1035G1 Processor Up to 3.60 GHz, 8GB DDR4 RAM, 256GB SSD + 16GB Optane, HDMI, Bluetooth, Win 10-Silver (Renewed)</td>\n",
       "      <td>562.00</td>\n",
       "      <td>4.5</td>\n",
       "      <td>i5</td>\n",
       "      <td>8.0</td>\n",
       "      <td>15.6</td>\n",
       "    </tr>\n",
       "    <tr>\n",
       "      <th>668</th>\n",
       "      <td>Goldengulf Windows 10 Computer Laptop Mini 10.1 Inch 32GB Ultra Thin and Light Netbook Intel Quad Core CPU PC HDMI WiFi USB Netflix YouTube (Blue)</td>\n",
       "      <td>218.86</td>\n",
       "      <td>3.9</td>\n",
       "      <td>NaN</td>\n",
       "      <td>NaN</td>\n",
       "      <td>10</td>\n",
       "    </tr>\n",
       "    <tr>\n",
       "      <th>674</th>\n",
       "      <td>2020 HP 14-inch HD Touchscreen Premium Laptop PC, AMD Ryzen 3 3200U Processor, 8GB DDR4 Memory, 256GB SSD, Bluetooth, Windows 10, Silver</td>\n",
       "      <td>523.00</td>\n",
       "      <td>4.6</td>\n",
       "      <td>NaN</td>\n",
       "      <td>8.0</td>\n",
       "      <td>14</td>\n",
       "    </tr>\n",
       "    <tr>\n",
       "      <th>680</th>\n",
       "      <td>Fusion5 14.1inch A90B+ Pro 64GB Windows 10 Laptop - 4GB RAM, 64GB Storage, Full HD IPS, Bluetooth, 2MP Webcam, Dual Band WiFi Laptop</td>\n",
       "      <td>264.95</td>\n",
       "      <td>4.2</td>\n",
       "      <td>NaN</td>\n",
       "      <td>4.0</td>\n",
       "      <td>14.1</td>\n",
       "    </tr>\n",
       "    <tr>\n",
       "      <th>686</th>\n",
       "      <td>CHUWI Herobook Pro 14.1 inch Windows 10 Intel N4000 Dual Core 8GB RAM 256GB ROM Notebook,Thin and Lightweight Laptop,BT4.0 (Herobook Pro (Herobook Pro(2020))</td>\n",
       "      <td>339.00</td>\n",
       "      <td>4.0</td>\n",
       "      <td>NaN</td>\n",
       "      <td>8.0</td>\n",
       "      <td>14.1</td>\n",
       "    </tr>\n",
       "  </tbody>\n",
       "</table>\n",
       "<p>90 rows × 6 columns</p>\n",
       "</div>"
      ],
      "text/plain": [
       "                                                                                                                                                                                Name  \\\n",
       "1                                                   CHUWI HeroBook Pro 14.1 inch Windows 10 Laptop Computer, 8G RAM / 256GB SSD with Intel Gmini Lake N4000 Notebook, Thin and Light   \n",
       "3                                                   CHUWI HeroBook Pro 14.1 inch Windows 10 Laptop Computer, 8G RAM / 256GB SSD with Intel Gmini Lake N4000 Notebook, Thin and Light   \n",
       "8                                                   CHUWI HeroBook Pro 14.1 inch Windows 10 Laptop Computer, 8G RAM / 256GB SSD with Intel Gmini Lake N4000 Notebook, Thin and Light   \n",
       "14                     CHUWI Herobook Pro 14.1 inch Windows 10 Intel N4000 Dual Core 8GB RAM 256GB ROM Notebook,Thin and Lightweight Laptop,BT4.0 (Herobook Pro (Herobook Pro(2020))   \n",
       "44   iProda 14\" Stream Laptop, Intel i3 Notebook (up to 2.4GHz), 8GB Memory, 256GB SSD, Full HD IPS 19201080 Display, Windows 10 Pro, Perfect PC for Student and Home use (Intel i3)   \n",
       "..                                                                                                                                                                               ...   \n",
       "662       Newest HP 15.6inch Lightweight Laptop, Intel Quad-Core i5-1035G1 Processor Up to 3.60 GHz, 8GB DDR4 RAM, 256GB SSD + 16GB Optane, HDMI, Bluetooth, Win 10-Silver (Renewed)   \n",
       "668                               Goldengulf Windows 10 Computer Laptop Mini 10.1 Inch 32GB Ultra Thin and Light Netbook Intel Quad Core CPU PC HDMI WiFi USB Netflix YouTube (Blue)   \n",
       "674                                         2020 HP 14-inch HD Touchscreen Premium Laptop PC, AMD Ryzen 3 3200U Processor, 8GB DDR4 Memory, 256GB SSD, Bluetooth, Windows 10, Silver   \n",
       "680                                             Fusion5 14.1inch A90B+ Pro 64GB Windows 10 Laptop - 4GB RAM, 64GB Storage, Full HD IPS, Bluetooth, 2MP Webcam, Dual Band WiFi Laptop   \n",
       "686                    CHUWI Herobook Pro 14.1 inch Windows 10 Intel N4000 Dual Core 8GB RAM 256GB ROM Notebook,Thin and Lightweight Laptop,BT4.0 (Herobook Pro (Herobook Pro(2020))   \n",
       "\n",
       "      Price  Review Processor  RAM_Memory Screen_Size  \n",
       "1    339.00     4.0       NaN         8.0        14.1  \n",
       "3    339.00     3.9       NaN         8.0        14.1  \n",
       "8    339.00     3.9       NaN         8.0        14.1  \n",
       "14   339.00     4.0       NaN         8.0        14.1  \n",
       "44   378.98     4.5        i3         8.0          14  \n",
       "..      ...     ...       ...         ...         ...  \n",
       "662  562.00     4.5        i5         8.0        15.6  \n",
       "668  218.86     3.9       NaN         NaN          10  \n",
       "674  523.00     4.6       NaN         8.0          14  \n",
       "680  264.95     4.2       NaN         4.0        14.1  \n",
       "686  339.00     4.0       NaN         8.0        14.1  \n",
       "\n",
       "[90 rows x 6 columns]"
      ]
     },
     "execution_count": 132,
     "metadata": {},
     "output_type": "execute_result"
    }
   ],
   "source": [
    "df_final = df[['Name', 'Price_Clean', 'Review_Clean', 'Processor', 'RAM_Memory', 'Screen_Size']]\n",
    "df_final.columns = ['Name', 'Price', 'Review', 'Processor', 'RAM_Memory', 'Screen_Size']\n",
    "df_final"
   ]
  },
  {
   "cell_type": "markdown",
   "metadata": {},
   "source": [
    "## Search the DataFrame with Filters"
   ]
  },
  {
   "cell_type": "markdown",
   "metadata": {},
   "source": [
    "> Creating a filter to search the dataframe and return only laptops with certain specifications."
   ]
  },
  {
   "cell_type": "code",
   "execution_count": 133,
   "metadata": {},
   "outputs": [],
   "source": [
    "# Dictionary with filters\n",
    "filters = {'processor': {'min':'i5', 'max':'i7'},\n",
    "            'ram': 16,\n",
    "            'max_price': 1500,\n",
    "            'screen': {'min':14, 'max':16},\n",
    "            'min_stars': 4}"
   ]
  },
  {
   "cell_type": "code",
   "execution_count": 134,
   "metadata": {},
   "outputs": [
    {
     "name": "stdout",
     "output_type": "stream",
     "text": [
      "Number of findings: 4\n"
     ]
    }
   ],
   "source": [
    "# Filter Processor\n",
    "df_filtered = df_final[(df_final['Processor'] == filters['processor']['min']) | (df_final['Processor'] == filters['processor']['max'])].copy()\n",
    "\n",
    "# Filter RAM Memory\n",
    "df_filtered = df_filtered[(df_filtered['RAM_Memory'] >= filters['ram'])]\n",
    "\n",
    "# Filter Price\n",
    "df_filtered = df_filtered[(df_filtered['Price'] <= filters['max_price'])]\n",
    "\n",
    "# Filter Screen size\n",
    "df_filtered = df_filtered[(df_filtered['Screen_Size'] >= filters['screen']['min']) & (df_filtered['Screen_Size'] <= filters['screen']['max'])]\n",
    "\n",
    "# Filter Reviews\n",
    "df_filtered = df_filtered[(df_filtered['Review'] >= filters['min_stars'])]\n",
    "\n",
    "print(f'Number of findings: {df_filtered.shape[0]}')"
   ]
  },
  {
   "cell_type": "code",
   "execution_count": 135,
   "metadata": {},
   "outputs": [
    {
     "data": {
      "text/html": [
       "<div>\n",
       "<style scoped>\n",
       "    .dataframe tbody tr th:only-of-type {\n",
       "        vertical-align: middle;\n",
       "    }\n",
       "\n",
       "    .dataframe tbody tr th {\n",
       "        vertical-align: top;\n",
       "    }\n",
       "\n",
       "    .dataframe thead th {\n",
       "        text-align: right;\n",
       "    }\n",
       "</style>\n",
       "<table border=\"1\" class=\"dataframe\">\n",
       "  <thead>\n",
       "    <tr style=\"text-align: right;\">\n",
       "      <th></th>\n",
       "      <th>Name</th>\n",
       "      <th>Price</th>\n",
       "      <th>Review</th>\n",
       "      <th>Processor</th>\n",
       "      <th>RAM_Memory</th>\n",
       "      <th>Screen_Size</th>\n",
       "    </tr>\n",
       "  </thead>\n",
       "  <tbody>\n",
       "    <tr>\n",
       "      <th>92</th>\n",
       "      <td>2020 Asus TUF 15.6\" FHD Premium Gaming Laptop, 10th Gen Intel Quad-Core i5-10300H, 16GB RAM, 1TB SSD, NVIDIA GeForce GTX 1650Ti 4GB GDDR6, RGB Backlit Keyboard, Windows 10 Home</td>\n",
       "      <td>854.01</td>\n",
       "      <td>4.1</td>\n",
       "      <td>i5</td>\n",
       "      <td>16.0</td>\n",
       "      <td>15.6</td>\n",
       "    </tr>\n",
       "    <tr>\n",
       "      <th>392</th>\n",
       "      <td>HP EliteBook 840 G3 Laptop 14\" FHD Display, Intel Core i5-6300U 2.4Ghz, 256GB SSD, 16GB DDR4 RAM, Webcam, WiFi, Windows 10 Pro (Renewed)</td>\n",
       "      <td>449.99</td>\n",
       "      <td>4.2</td>\n",
       "      <td>i5</td>\n",
       "      <td>16.0</td>\n",
       "      <td>14</td>\n",
       "    </tr>\n",
       "    <tr>\n",
       "      <th>470</th>\n",
       "      <td>Samsung Notebook 9 Pro NP940X5N-X01US 15\" FHD 2-in-1 Touch Screen Laptop, 8th Gen Intel Quad-Core i7-8550U Up To 4GHz, 16GB DDR4, 256GB SSD, Backlit Keyboard, Windows 10, Built-in S Pen, Titan Silver</td>\n",
       "      <td>912.46</td>\n",
       "      <td>4.2</td>\n",
       "      <td>i7</td>\n",
       "      <td>16.0</td>\n",
       "      <td>15</td>\n",
       "    </tr>\n",
       "    <tr>\n",
       "      <th>536</th>\n",
       "      <td>2019 Newest HP Pavilion 15 15.6\" HD Touchscreen Business Laptop Intel Quad-Core i5-8250U, 16GB DDR4, 512GB SSD, Type-C, HDMI, WiFi AC, UHD, Windows 10</td>\n",
       "      <td>725.00</td>\n",
       "      <td>4.0</td>\n",
       "      <td>i5</td>\n",
       "      <td>16.0</td>\n",
       "      <td>15</td>\n",
       "    </tr>\n",
       "  </tbody>\n",
       "</table>\n",
       "</div>"
      ],
      "text/plain": [
       "                                                                                                                                                                                                        Name  \\\n",
       "92                          2020 Asus TUF 15.6\" FHD Premium Gaming Laptop, 10th Gen Intel Quad-Core i5-10300H, 16GB RAM, 1TB SSD, NVIDIA GeForce GTX 1650Ti 4GB GDDR6, RGB Backlit Keyboard, Windows 10 Home   \n",
       "392                                                                 HP EliteBook 840 G3 Laptop 14\" FHD Display, Intel Core i5-6300U 2.4Ghz, 256GB SSD, 16GB DDR4 RAM, Webcam, WiFi, Windows 10 Pro (Renewed)   \n",
       "470  Samsung Notebook 9 Pro NP940X5N-X01US 15\" FHD 2-in-1 Touch Screen Laptop, 8th Gen Intel Quad-Core i7-8550U Up To 4GHz, 16GB DDR4, 256GB SSD, Backlit Keyboard, Windows 10, Built-in S Pen, Titan Silver   \n",
       "536                                                   2019 Newest HP Pavilion 15 15.6\" HD Touchscreen Business Laptop Intel Quad-Core i5-8250U, 16GB DDR4, 512GB SSD, Type-C, HDMI, WiFi AC, UHD, Windows 10   \n",
       "\n",
       "      Price  Review Processor  RAM_Memory Screen_Size  \n",
       "92   854.01     4.1        i5        16.0        15.6  \n",
       "392  449.99     4.2        i5        16.0          14  \n",
       "470  912.46     4.2        i7        16.0          15  \n",
       "536  725.00     4.0        i5        16.0          15  "
      ]
     },
     "execution_count": 135,
     "metadata": {},
     "output_type": "execute_result"
    }
   ],
   "source": [
    "# Filtered results\n",
    "df_filtered"
   ]
  },
  {
   "cell_type": "markdown",
   "metadata": {},
   "source": [
    "> There it is! Now I know where to start my laptop review from!\n",
    ">\n",
    "> Since products on Amazon are frequently updated, I can re-run this later and see if new interesting options appeared!"
   ]
  },
  {
   "cell_type": "markdown",
   "metadata": {},
   "source": [
    "<h1 id=\"End\">End<a class=\"anchor-link\" href=\"#End\">&#182;</a></h1><p>Matheus Schmitz</p>\n",
    "<p><a href=\"https://www.linkedin.com/in/matheusschmitz/\">LinkedIn</a></p>\n",
    "<p><a href=\"https://matheus-schmitz.github.io/\">Github Portfolio</a></p>"
   ]
  }
 ],
 "metadata": {
  "kernelspec": {
   "display_name": "Python 3",
   "language": "python",
   "name": "python3"
  },
  "language_info": {
   "codemirror_mode": {
    "name": "ipython",
    "version": 3
   },
   "file_extension": ".py",
   "mimetype": "text/x-python",
   "name": "python",
   "nbconvert_exporter": "python",
   "pygments_lexer": "ipython3",
   "version": "3.7.7"
  }
 },
 "nbformat": 4,
 "nbformat_minor": 4
}
